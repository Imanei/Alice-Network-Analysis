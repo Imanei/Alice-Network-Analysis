{
 "cells": [
  {
   "cell_type": "markdown",
   "id": "d6060466-f12c-4d0f-9d7f-a1e3fbd3b2a9",
   "metadata": {},
   "source": [
    "This is a test "
   ]
  },
  {
   "cell_type": "code",
   "execution_count": 2,
   "id": "212671ca-4f95-492a-8ea0-7687a5b8b093",
   "metadata": {},
   "outputs": [
    {
     "name": "stdout",
     "output_type": "stream",
     "text": [
      "Array: [1 2 3 4 5]\n",
      "Mean of the array: 3.0\n"
     ]
    }
   ],
   "source": [
    "import numpy as np\n",
    "\n",
    "array = np.array([1, 2, 3, 4, 5])\n",
    "print(\"Array:\", array)\n",
    "print(\"Mean of the array:\", np.mean(array))"
   ]
  },
  {
   "cell_type": "code",
   "execution_count": null,
   "id": "d010ed5f-b63a-4e9f-8d88-ae73e76c5763",
   "metadata": {},
   "outputs": [],
   "source": []
  }
 ],
 "metadata": {
  "kernelspec": {
   "display_name": "Python 3 (ipykernel)",
   "language": "python",
   "name": "python3"
  },
  "language_info": {
   "codemirror_mode": {
    "name": "ipython",
    "version": 3
   },
   "file_extension": ".py",
   "mimetype": "text/x-python",
   "name": "python",
   "nbconvert_exporter": "python",
   "pygments_lexer": "ipython3",
   "version": "3.12.3"
  }
 },
 "nbformat": 4,
 "nbformat_minor": 5
}
